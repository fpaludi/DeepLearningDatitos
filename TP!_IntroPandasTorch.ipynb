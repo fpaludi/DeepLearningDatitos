{
  "nbformat": 4,
  "nbformat_minor": 0,
  "metadata": {
    "colab": {
      "name": "TP!_IntroPandasTorch",
      "provenance": [],
      "include_colab_link": true
    },
    "kernelspec": {
      "name": "python3",
      "display_name": "Python 3"
    }
  },
  "cells": [
    {
      "cell_type": "markdown",
      "metadata": {
        "id": "view-in-github",
        "colab_type": "text"
      },
      "source": [
        "<a href=\"https://colab.research.google.com/github/fpaludi/DeepLearningDatitos/blob/master/TP!_IntroPandasTorch.ipynb\" target=\"_parent\"><img src=\"https://colab.research.google.com/assets/colab-badge.svg\" alt=\"Open In Colab\"/></a>"
      ]
    },
    {
      "cell_type": "code",
      "metadata": {
        "id": "qgOYqUMqkqR8"
      },
      "source": [
        "#@title Aprendizaje Profundo | Otoño 2021 by Datitos{display-mode: \"form\" }\n",
        "#@markdown ![71335171.png](data:image/png;base64,iVBORw0KGgoAAAANSUhEUgAAAMgAAADICAIAAAAiOjnJAAACwElEQVR4nOzdMY7iQBBA0WU197/FnJNNJ/FqWvLHZfd7McIGfVVQos3X+/3+A2f7e/UN8EzCIiEsEsIiISwSwiIhLBLCIiEsEsIiISwSwiIhLBLCIiEsEsIiISwSwiIhLBLCIiEsEsIiISwSwiIhLBLCIiEsEsIiISwSwiIhLBLCIiEsEsIiISwSwiIhLBLCIiEsEsIiISwSwiIhLBJfV9/A/7xer6XX3/1/gZ70eU0sEsIiISwSwiIhLBLCIiEsEiP2WEf7m9U9zVnvU9vh85pYJIRFQlgkhEVCWCSERUJYJEbssc5ytL+5at8zec9UM7FICIuEsEgIi4SwSAiLhLBIPGqPdWR1v1VfdwcmFglhkRAWCWGREBYJYZEQFokt9lhHdt4z1UwsEsIiISwSwiIhLBLCIiEsEh/dY+18zq4w7RzlTyYWCWGREBYJYZEQFglhkRAWiS1+jzVhr/Mbd7nP3zCxSAiLhLBICIuEsEgIi4SwSDxqj1U/72r1ulc9l2sCE4uEsEgIi4SwSAiLhLBICIvE7D3W9/fSy6/63dLqdZfvc/F7mMDEIiEsEsIiISwSwiIhLBLCIjF7j3WSs87rTXufyUwsEsIiISwSwiIhLBLCIiEsEq8Ju5N6r3OXc3xP2oeZWCSERUJYJIRFQlgkhEVCWCRG7LGOTN7TfNIdvwcTi4SwSAiLhLBICIuEsEgIi8Toc4U7Pyf9p8n7qiMmFglhkRAWCWGREBYJYZEQFonRe6wjd9zr7MbEIiEsEsIiISwSwiIhLBLCIiEsEsIiISwSwiIhLBLCIiEsEsIiISwSwiIhLBLCIiEsEsIiISwSwiIhLBLCIiEsEsIiISwSwiIhLBLCIiEsEsIiISwSwiIhLBLCIiEsEsIiISwSwiIhLBLCIiEsEsIiISwSwiIhLBLCIiEsEsIi8S8AAP//HtRtH09JwIEAAAAASUVORK5CYII=)\n",
        "#El siguiente notebook fue diseñado por Pablo Marinozi como el primer trabajo práctico correspondiente a la versión de Otoño del 2021 del curso Aprendizaje Profundo organizado por Datitos \n",
        "#Para mayor información consultar https://datitos.github.io/curso-aprendizaje-profundo/#calendario"
      ],
      "execution_count": null,
      "outputs": []
    },
    {
      "cell_type": "code",
      "metadata": {
        "id": "vyLcWBG4oJWo"
      },
      "source": [
        ""
      ],
      "execution_count": null,
      "outputs": []
    },
    {
      "cell_type": "markdown",
      "metadata": {
        "id": "Gl4P6BiNsgI9"
      },
      "source": [
        "# Trabajo Práctico N°1: Preprocesamiento y Manipulación de Datos"
      ]
    },
    {
      "cell_type": "markdown",
      "metadata": {
        "id": "YAJ4BdmGsyDZ"
      },
      "source": [
        "Este trabajo práctico tiene dos partes.\r\n",
        "\r\n",
        "El objetivo de la primera es aprender cómo preprocesar datos usando la biblioteca `pandas`.\r\n",
        "\r\n",
        "El objetivo de la segunda es realizar ejercicios para reforzar el manejo de tensores con `Pytorch`."
      ]
    },
    {
      "cell_type": "markdown",
      "metadata": {
        "id": "xjsWU7ngi4Xr"
      },
      "source": [
        "## Parte 0: Importar Librerías"
      ]
    },
    {
      "cell_type": "code",
      "metadata": {
        "id": "LVw1QNI9i9ro"
      },
      "source": [
        "import pandas as pd\r\n",
        "import numpy as np\r\n",
        "import matplotlib.pyplot as plt \r\n",
        "import torch"
      ],
      "execution_count": null,
      "outputs": []
    },
    {
      "cell_type": "markdown",
      "metadata": {
        "id": "gFc0axFhlD_X"
      },
      "source": [
        "## Parte 1: Preprocesamiento de Datos"
      ]
    },
    {
      "cell_type": "markdown",
      "metadata": {
        "id": "004NAgMAtymc"
      },
      "source": [
        "### Valores Faltantes\r\n",
        "\r\n"
      ]
    },
    {
      "cell_type": "markdown",
      "metadata": {
        "id": "6KD1j4I6uLQ-"
      },
      "source": [
        "En esta sección del práctico vamos a trabajar con el dataset relacionado a la hepatitis. El siguiente código descarga el csv."
      ]
    },
    {
      "cell_type": "code",
      "metadata": {
        "id": "UBLn0rBhtx9U"
      },
      "source": [
        "!gdown https://drive.google.com/uc?id=1UmZdyg15LEmlNIqCbpQTChdpPKoHcru1"
      ],
      "execution_count": null,
      "outputs": []
    },
    {
      "cell_type": "markdown",
      "metadata": {
        "id": "NCJw75dTwEmy"
      },
      "source": [
        "En primer lugar, importe los datos del archivo utilizando la biblioteca de `pandas` y conviértalos en un dataframe con la funcion `read_csv()`. Luego, a través del método `head(10)` imprima por pantalla solo las primeras 10 filas del conjunto de datos."
      ]
    },
    {
      "cell_type": "code",
      "metadata": {
        "id": "cheUum0AosZB"
      },
      "source": [
        "df = #inserte su código aquí"
      ],
      "execution_count": null,
      "outputs": []
    },
    {
      "cell_type": "markdown",
      "metadata": {
        "id": "Zq73YMCwwfYf"
      },
      "source": [
        "Observamos que el dataset presenta algunos problemas. Por ejemplo, el valor de la columna `albumin` no está disponible para todas las filas. En algunos casos presenta el valor NaN, lo que significa que falta el valor.\r\n",
        "\r\n",
        "Para verificar si nuestro dataset contiene valores faltantes, podemos usar la función `isna()`, que devuelve si una celda del conjunto de datos es NaN o no. Luego, deberemos contar cuántos valores faltantes hay para cada columna. "
      ]
    },
    {
      "cell_type": "code",
      "metadata": {
        "id": "9YnV7CyFxrUj"
      },
      "source": [
        "#inserte su código aquí"
      ],
      "execution_count": null,
      "outputs": []
    },
    {
      "cell_type": "markdown",
      "metadata": {
        "id": "QnKSp5Udybeq"
      },
      "source": [
        "Cuando se trata de valores faltantes, se pueden aplicar diferentes estrategias:\r\n",
        "\r\n",
        "* ponerse en contacto con la fuente de datos para corregir los valores faltantes,\r\n",
        "* eliminar los valores faltantes,\r\n",
        "* reemplazar el valor faltante con algún valor y\r\n",
        "* dejar el valor faltante como está.\r\n",
        "\r\n",
        "La primera estrategia no siempre es factible y no creemos que necesiten nuestra ayuda para adoptar la última. En las siguientes subsecciones analizaremos las dos estrategias restantes."
      ]
    },
    {
      "cell_type": "markdown",
      "metadata": {
        "id": "Cm0ZeSzjzNnj"
      },
      "source": [
        "#### Eliminar los valores faltantes"
      ]
    },
    {
      "cell_type": "markdown",
      "metadata": {
        "id": "sNKd1oP6zRKh"
      },
      "source": [
        "Hay dos maneras de eliminar los valores faltantes:\r\n",
        "\r\n",
        "* eliminar las filas que contengan valores faltantes\r\n",
        "* eliminar las columnas que los contengan.\r\n",
        "\r\n",
        "Podemos usar `dropna()` para esta tarea especificando el eje a considerar. Si configuramos `axis=0`, descartamos toda la fila, si configuramos `axis=1`, descartamos toda la columna. \r\n",
        "\r\n",
        "Genere dos versiones nuevas del dataset utilizando la estrategia correspondiente en cada caso y analice los tamaños de los dataframes resultantes. "
      ]
    },
    {
      "cell_type": "code",
      "metadata": {
        "id": "vdTWAvwk0RK5"
      },
      "source": [
        "#inserte su código aquí"
      ],
      "execution_count": null,
      "outputs": []
    },
    {
      "cell_type": "markdown",
      "metadata": {
        "id": "hrsaRPHB0uoA"
      },
      "source": [
        "Como alternativa, podemos especificar solo la columna en la que se debe aplicar la operación de dropping. En el siguiente ejemplo, solo se consideran las filas faltantes relacionadas con la columna `liver_big`. Esto se puede lograr a través del parámetro `subset`, que permite especificar el subconjunto de columnas donde aplicar la operación de dropping. Verifique si siguen existiendo valores NaN en el resto de las columnas."
      ]
    },
    {
      "cell_type": "code",
      "metadata": {
        "id": "R3dyOOZl1KHD"
      },
      "source": [
        "#inserte su código aquí"
      ],
      "execution_count": null,
      "outputs": []
    },
    {
      "cell_type": "markdown",
      "metadata": {
        "id": "xHtuaaol1jEj"
      },
      "source": [
        "Otra alternativa consiste en eliminar las columnas en las que se dispone de un cierto porcentaje de valores no nulos. Esto se puede lograr mediante el parámetro `thresh`. Intente utilizar este parámetro para mantener solo las columnas donde haya al menos el 80% de valores no nulos. "
      ]
    },
    {
      "cell_type": "code",
      "metadata": {
        "id": "hPv7dEWX1wgR"
      },
      "source": [
        "#inserte su código aquí"
      ],
      "execution_count": null,
      "outputs": []
    },
    {
      "cell_type": "markdown",
      "metadata": {
        "id": "a19OeruY2Aza"
      },
      "source": [
        "#### Reemplazar valores faltantes "
      ]
    },
    {
      "cell_type": "markdown",
      "metadata": {
        "id": "nWnI069U2HUf"
      },
      "source": [
        "Una buena estrategia a la hora de trabajar son valores faltantes implica su reemplazo por otro valor. Por lo general, se adoptan las siguientes estrategias:\r\n",
        "\r\n",
        "* para valores numéricos, reemplazar el valor faltante con el valor promedio de la columna\r\n",
        "* para valores categóricos, reemplazar el valor faltante con el valor más frecuente de la columna"
      ]
    },
    {
      "cell_type": "markdown",
      "metadata": {
        "id": "Oi_aoDy52j35"
      },
      "source": [
        "Para averiguar el tipo de datos de las columnas podemos  usar el atributo `dtypes` de la siguiente manera"
      ]
    },
    {
      "cell_type": "code",
      "metadata": {
        "id": "03xEK7kQ2vTK"
      },
      "source": [
        "df.dtypes"
      ],
      "execution_count": null,
      "outputs": []
    },
    {
      "cell_type": "markdown",
      "metadata": {
        "id": "LUerlADj9hTy"
      },
      "source": [
        "Usando la función `select_dtypes()` podemos generar una lista que contenga los nombres de las columnas numéricas y otra que contenga los de la columnas categóricas filtrando por `np.number `y `np.object` respectivamente."
      ]
    },
    {
      "cell_type": "code",
      "metadata": {
        "id": "ZqTFg5sz95pY"
      },
      "source": [
        "#inserte su código aquí"
      ],
      "execution_count": null,
      "outputs": []
    },
    {
      "cell_type": "markdown",
      "metadata": {
        "id": "kUZwRAzL9MoB"
      },
      "source": [
        "En todos los casos podemos usar la función `fillna()` para reemplazar los valores faltantes con algún valor pasado como parámetro. En el caso de las variables numéricas deberíamos reemplazarlo por la media (`mean()`) y en el caso de las variables categóricas por la moda (`mode()`). Al finalizar, comprobar si aun quedan valores faltantes en el dataset."
      ]
    },
    {
      "cell_type": "code",
      "metadata": {
        "id": "u-dMdyFy52L8"
      },
      "source": [
        "#inserte su código aquí"
      ],
      "execution_count": null,
      "outputs": []
    },
    {
      "cell_type": "markdown",
      "metadata": {
        "id": "KHmfGovRAEaQ"
      },
      "source": [
        "### Normalización de los datos"
      ]
    },
    {
      "cell_type": "markdown",
      "metadata": {
        "id": "edDdT7JbAYyB"
      },
      "source": [
        "La normalización de datos implica ajustar los valores medidos en diferentes escalas a una escala común. Cuando se trata de dataframes, la normalización de datos permite ajustar valores referidos a diferentes columnas a una escala común. Esta operación es muy recomendable cuando las columnas de un dataframes se van a usar como features de entrada de un algoritmo de aprendizaje automático, ya que impide que el algoritmo le asigne mayores pesos a las features de mayor escala. "
      ]
    },
    {
      "cell_type": "markdown",
      "metadata": {
        "id": "vu9sNMVlA-Sd"
      },
      "source": [
        "La normalización se aplica solo a las columnas que contienen valores numéricos. Existen cinco métodos de normalización:\r\n",
        "\r\n",
        "* single feature scaling\r\n",
        "* min max\r\n",
        "* z score\r\n",
        "* escala logaritmica\r\n",
        "* clipping"
      ]
    },
    {
      "cell_type": "markdown",
      "metadata": {
        "id": "j3nUfr_PBaJm"
      },
      "source": [
        "En el resto del práctico, aplicamos cada método a una sola columna. Sin embargo, si vas a utilizar cada columna del conjunto de datos como features de entrada de un algoritmo de aprendizaje automático, ***tenés que aplicar el mismo método de normalización a todas las columnas***."
      ]
    },
    {
      "cell_type": "markdown",
      "metadata": {
        "id": "9tiPktE2BvW1"
      },
      "source": [
        "En esta sección vamos a usar el dataset provisto por la Protezione Civile Italiana relacionado a los casos de COVID-19 registrados desde el inicio de la pandemia. Este dataset se actualiza diariamente y ell siguiente código se encarga de descargarlo."
      ]
    },
    {
      "cell_type": "code",
      "metadata": {
        "id": "11RihoxkB8uz"
      },
      "source": [
        "df_italia = pd.read_csv('https://raw.githubusercontent.com/pcm-dpc/COVID-19/master/dati-regioni/dpc-covid19-ita-regioni.csv')\r\n",
        "df_italia.head(10)"
      ],
      "execution_count": null,
      "outputs": []
    },
    {
      "cell_type": "markdown",
      "metadata": {
        "id": "UaWEcx3OCpH3"
      },
      "source": [
        "A continuación elimine todas las columnas que contengan valores faltantes."
      ]
    },
    {
      "cell_type": "code",
      "metadata": {
        "id": "TznMLQfqCvBx"
      },
      "source": [
        "#inserte su código aquí"
      ],
      "execution_count": null,
      "outputs": []
    },
    {
      "cell_type": "markdown",
      "metadata": {
        "id": "iCge39apCvb2"
      },
      "source": [
        "#### Single Feature Scaling\r\n"
      ]
    },
    {
      "cell_type": "markdown",
      "metadata": {
        "id": "TTUR6ZeODHBB"
      },
      "source": [
        "Este método convierte cada valor de una columna en un número entre 0 y 1. El nuevo valor se calcula como el valor actual dividido por el valor máximo de la columna. Implementelo en la columna `tamponi`"
      ]
    },
    {
      "cell_type": "code",
      "metadata": {
        "id": "YMzT0M-5DDYT"
      },
      "source": [
        "#inserte su código aquí"
      ],
      "execution_count": null,
      "outputs": []
    },
    {
      "cell_type": "markdown",
      "metadata": {
        "id": "gNJAX1EcDVuj"
      },
      "source": [
        "#### Min Max"
      ]
    },
    {
      "cell_type": "markdown",
      "metadata": {
        "id": "6WoNcxVNDYMC"
      },
      "source": [
        "De manera similar al método anterior, Min Max convierte cada valor de una columna en un número entre 0 y 1. El nuevo valor se calcula como la diferencia entre el valor actual y el valor mínimo, dividido por el rango de los valores de la columna. Implementelo para la columna `totale_casi`"
      ]
    },
    {
      "cell_type": "code",
      "metadata": {
        "id": "NaV8qtXxDq9r"
      },
      "source": [
        "#inserte su código aquí"
      ],
      "execution_count": null,
      "outputs": []
    },
    {
      "cell_type": "markdown",
      "metadata": {
        "id": "9QEW9QLkESiA"
      },
      "source": [
        "#### Z Score"
      ]
    },
    {
      "cell_type": "markdown",
      "metadata": {
        "id": "IB3LDG4UEUdk"
      },
      "source": [
        "Z-Score convierte cada valor de una columna en un número alrededor de 0. Los valores típicos obtenidos por una transformación de z-score oscilan entre -3 y 3. \r\n",
        "\r\n",
        "El nuevo valor se calcula como la diferencia entre el valor actual y el valor promedio, dividido por la desviación estándar. El valor promedio de una columna se puede obtener a través de la función `mean()`, mientras que la desviación estándar a través de la función `std()`. \r\n",
        "\r\n",
        "Implementelo para la columna ```deceduti```\r\n",
        "\r\n"
      ]
    },
    {
      "cell_type": "code",
      "metadata": {
        "id": "ZlTPNyA6FdwH"
      },
      "source": [
        "#inserte su código aquí"
      ],
      "execution_count": null,
      "outputs": []
    },
    {
      "cell_type": "markdown",
      "metadata": {
        "id": "oPNYy8sNdcFD"
      },
      "source": [
        "La siguiente función dibuja un gráfico de caja con los datos que recibe para poder observar su distribución. Utilicela pasando la versión normalizada de la columna `deceduti` del dataset como parámetro."
      ]
    },
    {
      "cell_type": "code",
      "metadata": {
        "id": "Kdpn9FTmFty2"
      },
      "source": [
        "def boxplot(data):\r\n",
        "  fig = plt.figure(figsize =(5, 5)) \r\n",
        "  plt.boxplot(data)\r\n",
        "  plt.show()\r\n",
        "\r\n",
        "#inserte su código aquí\r\n"
      ],
      "execution_count": null,
      "outputs": []
    },
    {
      "cell_type": "markdown",
      "metadata": {
        "id": "zyeamlS0IJot"
      },
      "source": [
        "En el gráfico de caja anterior se puede observar que a partir de cierto valor de Z los valores son outliers o valores anómalos."
      ]
    },
    {
      "cell_type": "markdown",
      "metadata": {
        "id": "kdXbrAHhh7dx"
      },
      "source": [
        "La siguiente función también realiza un gráfico de caja, pero antes filtra todos los valores outliers en base a un parámetro threshold. Llame a la función pasando la versión normalizada de la columna `deceduti` del dataset como parámetro `data`. Además elija un valor para el parámetro `threshold` de manera de eliminar todos los outliers del dataset. "
      ]
    },
    {
      "cell_type": "code",
      "metadata": {
        "id": "zxRCcFa_GXfa"
      },
      "source": [
        "def boxplot_sin_outliers(data,threshold):\r\n",
        "  outliers = np.where((data - threshold > 0), True, np.where(data + threshold < 0, True, False))\r\n",
        "  data_sin_outliers = data[~outliers]\r\n",
        "  fig = plt.figure(figsize =(10, 7)) \r\n",
        "  plt.boxplot(data_sin_outliers )\r\n",
        "  plt.show()\r\n",
        "\r\n",
        "#inserte su código aquí\r\n"
      ],
      "execution_count": null,
      "outputs": []
    },
    {
      "cell_type": "markdown",
      "metadata": {
        "id": "G89y5PDLIWFO"
      },
      "source": [
        "#### Escala logarítmica"
      ]
    },
    {
      "cell_type": "markdown",
      "metadata": {
        "id": "efNgOPJ2EmEi"
      },
      "source": [
        "Acá básicamente aplicamos la función `log()` a toda la columna. Implemente esta normalización para la columna `dimessi_guariti` Hay que tener cuidado porque el logaritmo de 0 está indeterminado. Les recomendamos utilizar [funciones lambda](https://www.kite.com/python/answers/how-to-use-an-if-statement-in-a-lambda-function-in-python) para sortear esta restricción."
      ]
    },
    {
      "cell_type": "code",
      "metadata": {
        "id": "r3HGjsQLiTHt"
      },
      "source": [
        "#inserte su código aquí"
      ],
      "execution_count": null,
      "outputs": []
    },
    {
      "cell_type": "markdown",
      "metadata": {
        "id": "yLllDvgOl_yg"
      },
      "source": [
        "## Parte 2: Manipulación de Datos\r\n"
      ]
    },
    {
      "cell_type": "markdown",
      "metadata": {
        "id": "-y1Uxgh2mKZC"
      },
      "source": [
        "Repasá lo visto en la clase 2 sobre manipulación de tensores e intentá resolver los siguientes ejercicios."
      ]
    },
    {
      "cell_type": "markdown",
      "metadata": {
        "id": "igHDlbWlmdYs"
      },
      "source": [
        "Primero generemos un tensor de 28x28 llenado con el valor 0.25 en todas sus celdas. Luego generemos un segundo tensor de 28x28 con el valor 0.5 y otro con el valor 0.75"
      ]
    },
    {
      "cell_type": "code",
      "metadata": {
        "id": "_ihr6267nT6U"
      },
      "source": [
        "#inserte su código aquí"
      ],
      "execution_count": null,
      "outputs": []
    },
    {
      "cell_type": "markdown",
      "metadata": {
        "id": "4Q_tNCuanv8W"
      },
      "source": [
        "Ahora concatene los 3 tensores en uno solo de dimensión 3X28X28"
      ]
    },
    {
      "cell_type": "code",
      "metadata": {
        "id": "Ls0zAT93n5Ke"
      },
      "source": [
        "#inserte su código aquí"
      ],
      "execution_count": null,
      "outputs": []
    },
    {
      "cell_type": "markdown",
      "metadata": {
        "id": "3VajCGlzn46x"
      },
      "source": [
        "Transformar el tensor anterior para que tenga 6 canales en lugar de 3. Organice las filas y columnas a su gusto."
      ]
    },
    {
      "cell_type": "code",
      "metadata": {
        "id": "N9mom4B6pZmM"
      },
      "source": [
        "#inserte su código aquí"
      ],
      "execution_count": null,
      "outputs": []
    },
    {
      "cell_type": "markdown",
      "metadata": {
        "id": "CVJP3VvCp6Yy"
      },
      "source": [
        "Devolver el valor de la suma de cada canal por separado. (Recordemos que en los vectores tridimensionales la forma es (canales, filas, columnas)"
      ]
    },
    {
      "cell_type": "code",
      "metadata": {
        "id": "lvMLOXZQp-eb"
      },
      "source": [
        "#inserte su código aquí"
      ],
      "execution_count": null,
      "outputs": []
    },
    {
      "cell_type": "markdown",
      "metadata": {
        "id": "dOb_Fu-9q3JP"
      },
      "source": [
        "Llenar la primera fila de cada canal con ceros y llenar el quinto canal con unos. Volver a generar las sumas para cada canal."
      ]
    },
    {
      "cell_type": "code",
      "metadata": {
        "id": "OZ4gx1F7r4il"
      },
      "source": [
        "#inserte su código aquí"
      ],
      "execution_count": null,
      "outputs": []
    },
    {
      "cell_type": "markdown",
      "metadata": {
        "id": "lYEOm_cpsZTk"
      },
      "source": [
        "Generar otro tensor con la misma forma que el anteriores, pero lleno de valores aleatorios."
      ]
    },
    {
      "cell_type": "code",
      "metadata": {
        "id": "U9x21z72sYyR"
      },
      "source": [
        "#inserte su código aquí"
      ],
      "execution_count": null,
      "outputs": []
    },
    {
      "cell_type": "markdown",
      "metadata": {
        "id": "BCFEEKPHsqQn"
      },
      "source": [
        "Concatenar ambos tensores tridimensionales en un tensor de cuatro dimensiones. "
      ]
    },
    {
      "cell_type": "code",
      "metadata": {
        "id": "VtrQYE85sOdX"
      },
      "source": [
        "#inserte su código aquí"
      ],
      "execution_count": null,
      "outputs": []
    },
    {
      "cell_type": "markdown",
      "metadata": {
        "id": "xZU9ML6_t65z"
      },
      "source": [
        "Generar un tercer tensor tridimensional que sea la resta de los otros dos y concatenarlo al tensor de cuatro dimensiones."
      ]
    },
    {
      "cell_type": "code",
      "metadata": {
        "id": "DjkSagDet6YN"
      },
      "source": [
        "#inserte su código aquí"
      ],
      "execution_count": null,
      "outputs": []
    }
  ]
}