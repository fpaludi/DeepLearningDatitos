{
  "nbformat": 4,
  "nbformat_minor": 0,
  "metadata": {
    "colab": {
      "name": "TP1_IntroPandasTorch",
      "provenance": [],
      "collapsed_sections": [],
      "include_colab_link": true
    },
    "kernelspec": {
      "name": "python3",
      "display_name": "Python 3"
    }
  },
  "cells": [
    {
      "cell_type": "markdown",
      "metadata": {
        "id": "view-in-github",
        "colab_type": "text"
      },
      "source": [
        "<a href=\"https://colab.research.google.com/github/fpaludi/DeepLearningDatitos/blob/master/TP1_IntroPandasTorch.ipynb\" target=\"_parent\"><img src=\"https://colab.research.google.com/assets/colab-badge.svg\" alt=\"Open In Colab\"/></a>"
      ]
    },
    {
      "cell_type": "code",
      "metadata": {
        "id": "qgOYqUMqkqR8"
      },
      "source": [
        "#@title Aprendizaje Profundo | Otoño 2021 by Datitos{display-mode: \"form\" }\n",
        "#@markdown ![71335171.png](data:image/png;base64,iVBORw0KGgoAAAANSUhEUgAAAMgAAADICAIAAAAiOjnJAAACwElEQVR4nOzdMY7iQBBA0WU197/FnJNNJ/FqWvLHZfd7McIGfVVQos3X+/3+A2f7e/UN8EzCIiEsEsIiISwSwiIhLBLCIiEsEsIiISwSwiIhLBLCIiEsEsIiISwSwiIhLBLCIiEsEsIiISwSwiIhLBLCIiEsEsIiISwSwiIhLBLCIiEsEsIiISwSwiIhLBLCIiEsEsIiISwSwiIhLBJfV9/A/7xer6XX3/1/gZ70eU0sEsIiISwSwiIhLBLCIiEsEiP2WEf7m9U9zVnvU9vh85pYJIRFQlgkhEVCWCSERUJYJEbssc5ytL+5at8zec9UM7FICIuEsEgIi4SwSAiLhLBIPGqPdWR1v1VfdwcmFglhkRAWCWGREBYJYZEQFokt9lhHdt4z1UwsEsIiISwSwiIhLBLCIiEsEh/dY+18zq4w7RzlTyYWCWGREBYJYZEQFglhkRAWiS1+jzVhr/Mbd7nP3zCxSAiLhLBICIuEsEgIi4SwSDxqj1U/72r1ulc9l2sCE4uEsEgIi4SwSAiLhLBICIvE7D3W9/fSy6/63dLqdZfvc/F7mMDEIiEsEsIiISwSwiIhLBLCIjF7j3WSs87rTXufyUwsEsIiISwSwiIhLBLCIiEsEq8Ju5N6r3OXc3xP2oeZWCSERUJYJIRFQlgkhEVCWCRG7LGOTN7TfNIdvwcTi4SwSAiLhLBICIuEsEgIi8Toc4U7Pyf9p8n7qiMmFglhkRAWCWGREBYJYZEQFonRe6wjd9zr7MbEIiEsEsIiISwSwiIhLBLCIiEsEsIiISwSwiIhLBLCIiEsEsIiISwSwiIhLBLCIiEsEsIiISwSwiIhLBLCIiEsEsIiISwSwiIhLBLCIiEsEsIiISwSwiIhLBLCIiEsEsIiISwSwiIhLBLCIiEsEsIiISwSwiIhLBLCIiEsEsIi8S8AAP//HtRtH09JwIEAAAAASUVORK5CYII=)\n",
        "#El siguiente notebook fue diseñado por Pablo Marinozi como el primer trabajo práctico correspondiente a la versión de Otoño del 2021 del curso Aprendizaje Profundo organizado por Datitos \n",
        "#Para mayor información consultar https://datitos.github.io/curso-aprendizaje-profundo/#calendario"
      ],
      "execution_count": null,
      "outputs": []
    },
    {
      "cell_type": "code",
      "metadata": {
        "id": "vyLcWBG4oJWo"
      },
      "source": [
        ""
      ],
      "execution_count": null,
      "outputs": []
    },
    {
      "cell_type": "markdown",
      "metadata": {
        "id": "Gl4P6BiNsgI9"
      },
      "source": [
        "# Trabajo Práctico N°1: Preprocesamiento y Manipulación de Datos"
      ]
    },
    {
      "cell_type": "markdown",
      "metadata": {
        "id": "YAJ4BdmGsyDZ"
      },
      "source": [
        "Este trabajo práctico tiene dos partes.\n",
        "\n",
        "El objetivo de la primera es aprender cómo preprocesar datos usando la biblioteca `pandas`.\n",
        "\n",
        "El objetivo de la segunda es realizar ejercicios para reforzar el manejo de tensores con `Pytorch`."
      ]
    },
    {
      "cell_type": "markdown",
      "metadata": {
        "id": "xjsWU7ngi4Xr"
      },
      "source": [
        "## Parte 0: Importar Librerías"
      ]
    },
    {
      "cell_type": "code",
      "metadata": {
        "id": "LVw1QNI9i9ro"
      },
      "source": [
        "import pandas as pd\n",
        "import numpy as np\n",
        "import matplotlib.pyplot as plt \n",
        "import torch"
      ],
      "execution_count": null,
      "outputs": []
    },
    {
      "cell_type": "markdown",
      "metadata": {
        "id": "gFc0axFhlD_X"
      },
      "source": [
        "## Parte 1: Preprocesamiento de Datos"
      ]
    },
    {
      "cell_type": "markdown",
      "metadata": {
        "id": "004NAgMAtymc"
      },
      "source": [
        "### Valores Faltantes\n",
        "\n"
      ]
    },
    {
      "cell_type": "markdown",
      "metadata": {
        "id": "6KD1j4I6uLQ-"
      },
      "source": [
        "En esta sección del práctico vamos a trabajar con el dataset relacionado a la hepatitis. El siguiente código descarga el csv."
      ]
    },
    {
      "cell_type": "code",
      "metadata": {
        "id": "UBLn0rBhtx9U",
        "colab": {
          "base_uri": "https://localhost:8080/"
        },
        "outputId": "e7c8f789-c367-4d11-f199-26b1a37f66bc"
      },
      "source": [
        "!gdown https://drive.google.com/uc?id=1UmZdyg15LEmlNIqCbpQTChdpPKoHcru1"
      ],
      "execution_count": null,
      "outputs": [
        {
          "output_type": "stream",
          "text": [
            "Downloading...\n",
            "From: https://drive.google.com/uc?id=1UmZdyg15LEmlNIqCbpQTChdpPKoHcru1\n",
            "To: /content/hepatitis_csv.csv\n",
            "\r  0% 0.00/15.2k [00:00<?, ?B/s]\r100% 15.2k/15.2k [00:00<00:00, 5.79MB/s]\n"
          ],
          "name": "stdout"
        }
      ]
    },
    {
      "cell_type": "markdown",
      "metadata": {
        "id": "NCJw75dTwEmy"
      },
      "source": [
        "En primer lugar, importe los datos del archivo utilizando la biblioteca de `pandas` y conviértalos en un dataframe con la funcion `read_csv()`. Luego, a través del método `head(10)` imprima por pantalla solo las primeras 10 filas del conjunto de datos."
      ]
    },
    {
      "cell_type": "code",
      "metadata": {
        "id": "cheUum0AosZB"
      },
      "source": [
        "df = pd.read_csv(\"/content/hepatitis_csv.csv\")"
      ],
      "execution_count": null,
      "outputs": []
    },
    {
      "cell_type": "markdown",
      "metadata": {
        "id": "Zq73YMCwwfYf"
      },
      "source": [
        "Observamos que el dataset presenta algunos problemas. Por ejemplo, el valor de la columna `albumin` no está disponible para todas las filas. En algunos casos presenta el valor NaN, lo que significa que falta el valor.\n",
        "\n",
        "Para verificar si nuestro dataset contiene valores faltantes, podemos usar la función `isna()`, que devuelve si una celda del conjunto de datos es NaN o no. Luego, deberemos contar cuántos valores faltantes hay para cada columna. "
      ]
    },
    {
      "cell_type": "code",
      "metadata": {
        "id": "9YnV7CyFxrUj",
        "colab": {
          "base_uri": "https://localhost:8080/"
        },
        "outputId": "c3bdfd7f-b660-468f-9272-11eed87f3fd6"
      },
      "source": [
        "for col in df.columns:\n",
        "  print(f\"{col} has {df[col].isna().sum() / df.shape[0]:2.2f} % of NaN values\")"
      ],
      "execution_count": null,
      "outputs": [
        {
          "output_type": "stream",
          "text": [
            "age has 0.00 % of NaN values\n",
            "sex has 0.00 % of NaN values\n",
            "steroid has 0.01 % of NaN values\n",
            "antivirals has 0.00 % of NaN values\n",
            "fatigue has 0.01 % of NaN values\n",
            "malaise has 0.01 % of NaN values\n",
            "anorexia has 0.01 % of NaN values\n",
            "liver_big has 0.06 % of NaN values\n",
            "liver_firm has 0.07 % of NaN values\n",
            "spleen_palpable has 0.03 % of NaN values\n",
            "spiders has 0.03 % of NaN values\n",
            "ascites has 0.03 % of NaN values\n",
            "varices has 0.03 % of NaN values\n",
            "bilirubin has 0.04 % of NaN values\n",
            "alk_phosphate has 0.19 % of NaN values\n",
            "sgot has 0.03 % of NaN values\n",
            "albumin has 0.10 % of NaN values\n",
            "protime has 0.43 % of NaN values\n",
            "histology has 0.00 % of NaN values\n",
            "class has 0.00 % of NaN values\n"
          ],
          "name": "stdout"
        }
      ]
    },
    {
      "cell_type": "markdown",
      "metadata": {
        "id": "QnKSp5Udybeq"
      },
      "source": [
        "Cuando se trata de valores faltantes, se pueden aplicar diferentes estrategias:\n",
        "\n",
        "* ponerse en contacto con la fuente de datos para corregir los valores faltantes,\n",
        "* eliminar los valores faltantes,\n",
        "* reemplazar el valor faltante con algún valor y\n",
        "* dejar el valor faltante como está.\n",
        "\n",
        "La primera estrategia no siempre es factible y no creemos que necesiten nuestra ayuda para adoptar la última. En las siguientes subsecciones analizaremos las dos estrategias restantes."
      ]
    },
    {
      "cell_type": "markdown",
      "metadata": {
        "id": "Cm0ZeSzjzNnj"
      },
      "source": [
        "#### Eliminar los valores faltantes"
      ]
    },
    {
      "cell_type": "markdown",
      "metadata": {
        "id": "sNKd1oP6zRKh"
      },
      "source": [
        "Hay dos maneras de eliminar los valores faltantes:\n",
        "\n",
        "* eliminar las filas que contengan valores faltantes\n",
        "* eliminar las columnas que los contengan.\n",
        "\n",
        "Podemos usar `dropna()` para esta tarea especificando el eje a considerar. Si configuramos `axis=0`, descartamos toda la fila, si configuramos `axis=1`, descartamos toda la columna. \n",
        "\n",
        "Genere dos versiones nuevas del dataset utilizando la estrategia correspondiente en cada caso y analice los tamaños de los dataframes resultantes. "
      ]
    },
    {
      "cell_type": "code",
      "metadata": {
        "id": "vdTWAvwk0RK5",
        "colab": {
          "base_uri": "https://localhost:8080/"
        },
        "outputId": "3ee1f739-a40c-4f75-c3a4-797958628a24"
      },
      "source": [
        "df_del_nan_row = df.dropna(axis=0)\n",
        "df_del_nan_col = df.dropna(axis=1)\n",
        "df_del_nan_row.shape, df_del_nan_col.shape"
      ],
      "execution_count": null,
      "outputs": [
        {
          "output_type": "execute_result",
          "data": {
            "text/plain": [
              "((80, 20), (155, 5))"
            ]
          },
          "metadata": {
            "tags": []
          },
          "execution_count": 6
        }
      ]
    },
    {
      "cell_type": "markdown",
      "metadata": {
        "id": "hrsaRPHB0uoA"
      },
      "source": [
        "Como alternativa, podemos especificar solo la columna en la que se debe aplicar la operación de dropping. En el siguiente ejemplo, solo se consideran las filas faltantes relacionadas con la columna `liver_big`. Esto se puede lograr a través del parámetro `subset`, que permite especificar el subconjunto de columnas donde aplicar la operación de dropping. Verifique si siguen existiendo valores NaN en el resto de las columnas."
      ]
    },
    {
      "cell_type": "code",
      "metadata": {
        "id": "R3dyOOZl1KHD",
        "colab": {
          "base_uri": "https://localhost:8080/"
        },
        "outputId": "c9ad890f-b270-4a3d-a9e2-6cb700ddef3c"
      },
      "source": [
        "df_del_nan_subset_row = df.dropna(subset=[\"liver_big\"], axis=0)\n",
        "df_del_nan_subset_row.shape"
      ],
      "execution_count": null,
      "outputs": [
        {
          "output_type": "execute_result",
          "data": {
            "text/plain": [
              "(145, 20)"
            ]
          },
          "metadata": {
            "tags": []
          },
          "execution_count": 7
        }
      ]
    },
    {
      "cell_type": "markdown",
      "metadata": {
        "id": "dv1GaHy9tGvp"
      },
      "source": [
        "Estas columnas continuan teniendo NaN\n"
      ]
    },
    {
      "cell_type": "code",
      "metadata": {
        "colab": {
          "base_uri": "https://localhost:8080/"
        },
        "id": "xj7spuYPstt-",
        "outputId": "e7281692-16d7-4653-d309-5b80e37f580b"
      },
      "source": [
        "df_del_nan_subset_row.isna().any()"
      ],
      "execution_count": null,
      "outputs": [
        {
          "output_type": "execute_result",
          "data": {
            "text/plain": [
              "age                False\n",
              "sex                False\n",
              "steroid             True\n",
              "antivirals         False\n",
              "fatigue            False\n",
              "malaise            False\n",
              "anorexia           False\n",
              "liver_big          False\n",
              "liver_firm          True\n",
              "spleen_palpable     True\n",
              "spiders             True\n",
              "ascites             True\n",
              "varices             True\n",
              "bilirubin           True\n",
              "alk_phosphate       True\n",
              "sgot                True\n",
              "albumin             True\n",
              "protime             True\n",
              "histology          False\n",
              "class              False\n",
              "dtype: bool"
            ]
          },
          "metadata": {
            "tags": []
          },
          "execution_count": 8
        }
      ]
    },
    {
      "cell_type": "markdown",
      "metadata": {
        "id": "xHtuaaol1jEj"
      },
      "source": [
        "Otra alternativa consiste en eliminar las columnas en las que se dispone de un cierto porcentaje de valores no nulos. Esto se puede lograr mediante el parámetro `thresh`. Intente utilizar este parámetro para mantener solo las columnas donde haya al menos el 80% de valores no nulos. "
      ]
    },
    {
      "cell_type": "code",
      "metadata": {
        "id": "hPv7dEWX1wgR",
        "colab": {
          "base_uri": "https://localhost:8080/"
        },
        "outputId": "947e564c-7947-4e88-e39d-dfcf6e83d32d"
      },
      "source": [
        "df_del_nan_thr_col = df.dropna(axis=1, thresh=80)\n",
        "df_del_nan_thr_col.shape"
      ],
      "execution_count": null,
      "outputs": [
        {
          "output_type": "execute_result",
          "data": {
            "text/plain": [
              "(155, 20)"
            ]
          },
          "metadata": {
            "tags": []
          },
          "execution_count": 9
        }
      ]
    },
    {
      "cell_type": "markdown",
      "metadata": {
        "id": "xDaF2UbUtv9L"
      },
      "source": [
        "Todas las colimnas tienen al menos un 80% de valores validos\n"
      ]
    },
    {
      "cell_type": "markdown",
      "metadata": {
        "id": "a19OeruY2Aza"
      },
      "source": [
        "#### Reemplazar valores faltantes "
      ]
    },
    {
      "cell_type": "markdown",
      "metadata": {
        "id": "nWnI069U2HUf"
      },
      "source": [
        "Una buena estrategia a la hora de trabajar son valores faltantes implica su reemplazo por otro valor. Por lo general, se adoptan las siguientes estrategias:\n",
        "\n",
        "* para valores numéricos, reemplazar el valor faltante con el valor promedio de la columna\n",
        "* para valores categóricos, reemplazar el valor faltante con el valor más frecuente de la columna"
      ]
    },
    {
      "cell_type": "markdown",
      "metadata": {
        "id": "Oi_aoDy52j35"
      },
      "source": [
        "Para averiguar el tipo de datos de las columnas podemos  usar el atributo `dtypes` de la siguiente manera"
      ]
    },
    {
      "cell_type": "code",
      "metadata": {
        "id": "03xEK7kQ2vTK",
        "colab": {
          "base_uri": "https://localhost:8080/"
        },
        "outputId": "9ef2b8c1-c8b1-4405-92e4-f1c66cab122c"
      },
      "source": [
        "df.dtypes"
      ],
      "execution_count": null,
      "outputs": [
        {
          "output_type": "execute_result",
          "data": {
            "text/plain": [
              "age                  int64\n",
              "sex                 object\n",
              "steroid             object\n",
              "antivirals            bool\n",
              "fatigue             object\n",
              "malaise             object\n",
              "anorexia            object\n",
              "liver_big           object\n",
              "liver_firm          object\n",
              "spleen_palpable     object\n",
              "spiders             object\n",
              "ascites             object\n",
              "varices             object\n",
              "bilirubin          float64\n",
              "alk_phosphate      float64\n",
              "sgot               float64\n",
              "albumin            float64\n",
              "protime            float64\n",
              "histology             bool\n",
              "class               object\n",
              "dtype: object"
            ]
          },
          "metadata": {
            "tags": []
          },
          "execution_count": 10
        }
      ]
    },
    {
      "cell_type": "markdown",
      "metadata": {
        "id": "LUerlADj9hTy"
      },
      "source": [
        "Usando la función `select_dtypes()` podemos generar una lista que contenga los nombres de las columnas numéricas y otra que contenga los de la columnas categóricas filtrando por `np.number `y `np.object` respectivamente."
      ]
    },
    {
      "cell_type": "code",
      "metadata": {
        "id": "ZqTFg5sz95pY"
      },
      "source": [
        "num_df = df.select_dtypes(np.number)\n",
        "cat_df = df.select_dtypes(np.object)"
      ],
      "execution_count": null,
      "outputs": []
    },
    {
      "cell_type": "markdown",
      "metadata": {
        "id": "kUZwRAzL9MoB"
      },
      "source": [
        "En todos los casos podemos usar la función `fillna()` para reemplazar los valores faltantes con algún valor pasado como parámetro. En el caso de las variables numéricas deberíamos reemplazarlo por la media (`mean()`) y en el caso de las variables categóricas por la moda (`mode()`). Al finalizar, comprobar si aun quedan valores faltantes en el dataset."
      ]
    },
    {
      "cell_type": "code",
      "metadata": {
        "colab": {
          "base_uri": "https://localhost:8080/",
          "height": 419
        },
        "id": "Vv8tanytunNa",
        "outputId": "b17f875c-3f68-4bbc-fc5d-1158ba0b7dc6"
      },
      "source": [
        "num_df"
      ],
      "execution_count": null,
      "outputs": [
        {
          "output_type": "execute_result",
          "data": {
            "text/html": [
              "<div>\n",
              "<style scoped>\n",
              "    .dataframe tbody tr th:only-of-type {\n",
              "        vertical-align: middle;\n",
              "    }\n",
              "\n",
              "    .dataframe tbody tr th {\n",
              "        vertical-align: top;\n",
              "    }\n",
              "\n",
              "    .dataframe thead th {\n",
              "        text-align: right;\n",
              "    }\n",
              "</style>\n",
              "<table border=\"1\" class=\"dataframe\">\n",
              "  <thead>\n",
              "    <tr style=\"text-align: right;\">\n",
              "      <th></th>\n",
              "      <th>age</th>\n",
              "      <th>bilirubin</th>\n",
              "      <th>alk_phosphate</th>\n",
              "      <th>sgot</th>\n",
              "      <th>albumin</th>\n",
              "      <th>protime</th>\n",
              "    </tr>\n",
              "  </thead>\n",
              "  <tbody>\n",
              "    <tr>\n",
              "      <th>0</th>\n",
              "      <td>30</td>\n",
              "      <td>1.0</td>\n",
              "      <td>85.0</td>\n",
              "      <td>18.0</td>\n",
              "      <td>4.0</td>\n",
              "      <td>NaN</td>\n",
              "    </tr>\n",
              "    <tr>\n",
              "      <th>1</th>\n",
              "      <td>50</td>\n",
              "      <td>0.9</td>\n",
              "      <td>135.0</td>\n",
              "      <td>42.0</td>\n",
              "      <td>3.5</td>\n",
              "      <td>NaN</td>\n",
              "    </tr>\n",
              "    <tr>\n",
              "      <th>2</th>\n",
              "      <td>78</td>\n",
              "      <td>0.7</td>\n",
              "      <td>96.0</td>\n",
              "      <td>32.0</td>\n",
              "      <td>4.0</td>\n",
              "      <td>NaN</td>\n",
              "    </tr>\n",
              "    <tr>\n",
              "      <th>3</th>\n",
              "      <td>31</td>\n",
              "      <td>0.7</td>\n",
              "      <td>46.0</td>\n",
              "      <td>52.0</td>\n",
              "      <td>4.0</td>\n",
              "      <td>80.0</td>\n",
              "    </tr>\n",
              "    <tr>\n",
              "      <th>4</th>\n",
              "      <td>34</td>\n",
              "      <td>1.0</td>\n",
              "      <td>NaN</td>\n",
              "      <td>200.0</td>\n",
              "      <td>4.0</td>\n",
              "      <td>NaN</td>\n",
              "    </tr>\n",
              "    <tr>\n",
              "      <th>...</th>\n",
              "      <td>...</td>\n",
              "      <td>...</td>\n",
              "      <td>...</td>\n",
              "      <td>...</td>\n",
              "      <td>...</td>\n",
              "      <td>...</td>\n",
              "    </tr>\n",
              "    <tr>\n",
              "      <th>150</th>\n",
              "      <td>46</td>\n",
              "      <td>7.6</td>\n",
              "      <td>NaN</td>\n",
              "      <td>242.0</td>\n",
              "      <td>3.3</td>\n",
              "      <td>50.0</td>\n",
              "    </tr>\n",
              "    <tr>\n",
              "      <th>151</th>\n",
              "      <td>44</td>\n",
              "      <td>0.9</td>\n",
              "      <td>126.0</td>\n",
              "      <td>142.0</td>\n",
              "      <td>4.3</td>\n",
              "      <td>NaN</td>\n",
              "    </tr>\n",
              "    <tr>\n",
              "      <th>152</th>\n",
              "      <td>61</td>\n",
              "      <td>0.8</td>\n",
              "      <td>75.0</td>\n",
              "      <td>20.0</td>\n",
              "      <td>4.1</td>\n",
              "      <td>NaN</td>\n",
              "    </tr>\n",
              "    <tr>\n",
              "      <th>153</th>\n",
              "      <td>53</td>\n",
              "      <td>1.5</td>\n",
              "      <td>81.0</td>\n",
              "      <td>19.0</td>\n",
              "      <td>4.1</td>\n",
              "      <td>48.0</td>\n",
              "    </tr>\n",
              "    <tr>\n",
              "      <th>154</th>\n",
              "      <td>43</td>\n",
              "      <td>1.2</td>\n",
              "      <td>100.0</td>\n",
              "      <td>19.0</td>\n",
              "      <td>3.1</td>\n",
              "      <td>42.0</td>\n",
              "    </tr>\n",
              "  </tbody>\n",
              "</table>\n",
              "<p>155 rows × 6 columns</p>\n",
              "</div>"
            ],
            "text/plain": [
              "     age  bilirubin  alk_phosphate   sgot  albumin  protime\n",
              "0     30        1.0           85.0   18.0      4.0      NaN\n",
              "1     50        0.9          135.0   42.0      3.5      NaN\n",
              "2     78        0.7           96.0   32.0      4.0      NaN\n",
              "3     31        0.7           46.0   52.0      4.0     80.0\n",
              "4     34        1.0            NaN  200.0      4.0      NaN\n",
              "..   ...        ...            ...    ...      ...      ...\n",
              "150   46        7.6            NaN  242.0      3.3     50.0\n",
              "151   44        0.9          126.0  142.0      4.3      NaN\n",
              "152   61        0.8           75.0   20.0      4.1      NaN\n",
              "153   53        1.5           81.0   19.0      4.1     48.0\n",
              "154   43        1.2          100.0   19.0      3.1     42.0\n",
              "\n",
              "[155 rows x 6 columns]"
            ]
          },
          "metadata": {
            "tags": []
          },
          "execution_count": 12
        }
      ]
    },
    {
      "cell_type": "code",
      "metadata": {
        "id": "u-dMdyFy52L8",
        "colab": {
          "base_uri": "https://localhost:8080/"
        },
        "outputId": "9d7ac337-c2a6-4543-bd8d-6571a4dfd2f8"
      },
      "source": [
        "num_fill_na_df = num_df.fillna(value=num_df.mean(axis=0))\n",
        "cat_fill_na_df = cat_df.fillna(value=cat_df.mode(axis=0).to_dict(\"records\")[0])\n",
        "fill_na_df = num_fill_na_df.join(cat_fill_na_df)\n",
        "fill_na_df.isna().any()"
      ],
      "execution_count": null,
      "outputs": [
        {
          "output_type": "execute_result",
          "data": {
            "text/plain": [
              "age                False\n",
              "bilirubin          False\n",
              "alk_phosphate      False\n",
              "sgot               False\n",
              "albumin            False\n",
              "protime            False\n",
              "sex                False\n",
              "steroid            False\n",
              "fatigue            False\n",
              "malaise            False\n",
              "anorexia           False\n",
              "liver_big          False\n",
              "liver_firm         False\n",
              "spleen_palpable    False\n",
              "spiders            False\n",
              "ascites            False\n",
              "varices            False\n",
              "class              False\n",
              "dtype: bool"
            ]
          },
          "metadata": {
            "tags": []
          },
          "execution_count": 13
        }
      ]
    },
    {
      "cell_type": "markdown",
      "metadata": {
        "id": "KHmfGovRAEaQ"
      },
      "source": [
        "### Normalización de los datos"
      ]
    },
    {
      "cell_type": "markdown",
      "metadata": {
        "id": "edDdT7JbAYyB"
      },
      "source": [
        "La normalización de datos implica ajustar los valores medidos en diferentes escalas a una escala común. Cuando se trata de dataframes, la normalización de datos permite ajustar valores referidos a diferentes columnas a una escala común. Esta operación es muy recomendable cuando las columnas de un dataframes se van a usar como features de entrada de un algoritmo de aprendizaje automático, ya que impide que el algoritmo le asigne mayores pesos a las features de mayor escala. "
      ]
    },
    {
      "cell_type": "markdown",
      "metadata": {
        "id": "vu9sNMVlA-Sd"
      },
      "source": [
        "La normalización se aplica solo a las columnas que contienen valores numéricos. Existen cinco métodos de normalización:\n",
        "\n",
        "* single feature scaling\n",
        "* min max\n",
        "* z score\n",
        "* escala logaritmica\n",
        "* clipping"
      ]
    },
    {
      "cell_type": "markdown",
      "metadata": {
        "id": "j3nUfr_PBaJm"
      },
      "source": [
        "En el resto del práctico, aplicamos cada método a una sola columna. Sin embargo, si vas a utilizar cada columna del conjunto de datos como features de entrada de un algoritmo de aprendizaje automático, ***tenés que aplicar el mismo método de normalización a todas las columnas***."
      ]
    },
    {
      "cell_type": "markdown",
      "metadata": {
        "id": "9tiPktE2BvW1"
      },
      "source": [
        "En esta sección vamos a usar el dataset provisto por la Protezione Civile Italiana relacionado a los casos de COVID-19 registrados desde el inicio de la pandemia. Este dataset se actualiza diariamente y ell siguiente código se encarga de descargarlo."
      ]
    },
    {
      "cell_type": "code",
      "metadata": {
        "id": "11RihoxkB8uz",
        "colab": {
          "base_uri": "https://localhost:8080/",
          "height": 549
        },
        "outputId": "d79e8b76-8b9a-4c8e-e8f4-09e3ec37b0d4"
      },
      "source": [
        "df_italia = pd.read_csv('https://raw.githubusercontent.com/pcm-dpc/COVID-19/master/dati-regioni/dpc-covid19-ita-regioni.csv')\n",
        "df_italia.head(10)"
      ],
      "execution_count": null,
      "outputs": [
        {
          "output_type": "execute_result",
          "data": {
            "text/html": [
              "<div>\n",
              "<style scoped>\n",
              "    .dataframe tbody tr th:only-of-type {\n",
              "        vertical-align: middle;\n",
              "    }\n",
              "\n",
              "    .dataframe tbody tr th {\n",
              "        vertical-align: top;\n",
              "    }\n",
              "\n",
              "    .dataframe thead th {\n",
              "        text-align: right;\n",
              "    }\n",
              "</style>\n",
              "<table border=\"1\" class=\"dataframe\">\n",
              "  <thead>\n",
              "    <tr style=\"text-align: right;\">\n",
              "      <th></th>\n",
              "      <th>data</th>\n",
              "      <th>stato</th>\n",
              "      <th>codice_regione</th>\n",
              "      <th>denominazione_regione</th>\n",
              "      <th>lat</th>\n",
              "      <th>long</th>\n",
              "      <th>ricoverati_con_sintomi</th>\n",
              "      <th>terapia_intensiva</th>\n",
              "      <th>totale_ospedalizzati</th>\n",
              "      <th>isolamento_domiciliare</th>\n",
              "      <th>totale_positivi</th>\n",
              "      <th>variazione_totale_positivi</th>\n",
              "      <th>nuovi_positivi</th>\n",
              "      <th>dimessi_guariti</th>\n",
              "      <th>deceduti</th>\n",
              "      <th>casi_da_sospetto_diagnostico</th>\n",
              "      <th>casi_da_screening</th>\n",
              "      <th>totale_casi</th>\n",
              "      <th>tamponi</th>\n",
              "      <th>casi_testati</th>\n",
              "      <th>note</th>\n",
              "      <th>ingressi_terapia_intensiva</th>\n",
              "      <th>note_test</th>\n",
              "      <th>note_casi</th>\n",
              "      <th>totale_positivi_test_molecolare</th>\n",
              "      <th>totale_positivi_test_antigenico_rapido</th>\n",
              "      <th>tamponi_test_molecolare</th>\n",
              "      <th>tamponi_test_antigenico_rapido</th>\n",
              "      <th>codice_nuts_1</th>\n",
              "      <th>codice_nuts_2</th>\n",
              "    </tr>\n",
              "  </thead>\n",
              "  <tbody>\n",
              "    <tr>\n",
              "      <th>0</th>\n",
              "      <td>2020-02-24T18:00:00</td>\n",
              "      <td>ITA</td>\n",
              "      <td>13</td>\n",
              "      <td>Abruzzo</td>\n",
              "      <td>42.351222</td>\n",
              "      <td>13.398438</td>\n",
              "      <td>0</td>\n",
              "      <td>0</td>\n",
              "      <td>0</td>\n",
              "      <td>0</td>\n",
              "      <td>0</td>\n",
              "      <td>0</td>\n",
              "      <td>0</td>\n",
              "      <td>0</td>\n",
              "      <td>0</td>\n",
              "      <td>NaN</td>\n",
              "      <td>NaN</td>\n",
              "      <td>0</td>\n",
              "      <td>5</td>\n",
              "      <td>NaN</td>\n",
              "      <td>NaN</td>\n",
              "      <td>NaN</td>\n",
              "      <td>NaN</td>\n",
              "      <td>NaN</td>\n",
              "      <td>NaN</td>\n",
              "      <td>NaN</td>\n",
              "      <td>NaN</td>\n",
              "      <td>NaN</td>\n",
              "      <td>NaN</td>\n",
              "      <td>NaN</td>\n",
              "    </tr>\n",
              "    <tr>\n",
              "      <th>1</th>\n",
              "      <td>2020-02-24T18:00:00</td>\n",
              "      <td>ITA</td>\n",
              "      <td>17</td>\n",
              "      <td>Basilicata</td>\n",
              "      <td>40.639471</td>\n",
              "      <td>15.805148</td>\n",
              "      <td>0</td>\n",
              "      <td>0</td>\n",
              "      <td>0</td>\n",
              "      <td>0</td>\n",
              "      <td>0</td>\n",
              "      <td>0</td>\n",
              "      <td>0</td>\n",
              "      <td>0</td>\n",
              "      <td>0</td>\n",
              "      <td>NaN</td>\n",
              "      <td>NaN</td>\n",
              "      <td>0</td>\n",
              "      <td>0</td>\n",
              "      <td>NaN</td>\n",
              "      <td>NaN</td>\n",
              "      <td>NaN</td>\n",
              "      <td>NaN</td>\n",
              "      <td>NaN</td>\n",
              "      <td>NaN</td>\n",
              "      <td>NaN</td>\n",
              "      <td>NaN</td>\n",
              "      <td>NaN</td>\n",
              "      <td>NaN</td>\n",
              "      <td>NaN</td>\n",
              "    </tr>\n",
              "    <tr>\n",
              "      <th>2</th>\n",
              "      <td>2020-02-24T18:00:00</td>\n",
              "      <td>ITA</td>\n",
              "      <td>18</td>\n",
              "      <td>Calabria</td>\n",
              "      <td>38.905976</td>\n",
              "      <td>16.594402</td>\n",
              "      <td>0</td>\n",
              "      <td>0</td>\n",
              "      <td>0</td>\n",
              "      <td>0</td>\n",
              "      <td>0</td>\n",
              "      <td>0</td>\n",
              "      <td>0</td>\n",
              "      <td>0</td>\n",
              "      <td>0</td>\n",
              "      <td>NaN</td>\n",
              "      <td>NaN</td>\n",
              "      <td>0</td>\n",
              "      <td>1</td>\n",
              "      <td>NaN</td>\n",
              "      <td>NaN</td>\n",
              "      <td>NaN</td>\n",
              "      <td>NaN</td>\n",
              "      <td>NaN</td>\n",
              "      <td>NaN</td>\n",
              "      <td>NaN</td>\n",
              "      <td>NaN</td>\n",
              "      <td>NaN</td>\n",
              "      <td>NaN</td>\n",
              "      <td>NaN</td>\n",
              "    </tr>\n",
              "    <tr>\n",
              "      <th>3</th>\n",
              "      <td>2020-02-24T18:00:00</td>\n",
              "      <td>ITA</td>\n",
              "      <td>15</td>\n",
              "      <td>Campania</td>\n",
              "      <td>40.839566</td>\n",
              "      <td>14.250850</td>\n",
              "      <td>0</td>\n",
              "      <td>0</td>\n",
              "      <td>0</td>\n",
              "      <td>0</td>\n",
              "      <td>0</td>\n",
              "      <td>0</td>\n",
              "      <td>0</td>\n",
              "      <td>0</td>\n",
              "      <td>0</td>\n",
              "      <td>NaN</td>\n",
              "      <td>NaN</td>\n",
              "      <td>0</td>\n",
              "      <td>10</td>\n",
              "      <td>NaN</td>\n",
              "      <td>NaN</td>\n",
              "      <td>NaN</td>\n",
              "      <td>NaN</td>\n",
              "      <td>NaN</td>\n",
              "      <td>NaN</td>\n",
              "      <td>NaN</td>\n",
              "      <td>NaN</td>\n",
              "      <td>NaN</td>\n",
              "      <td>NaN</td>\n",
              "      <td>NaN</td>\n",
              "    </tr>\n",
              "    <tr>\n",
              "      <th>4</th>\n",
              "      <td>2020-02-24T18:00:00</td>\n",
              "      <td>ITA</td>\n",
              "      <td>8</td>\n",
              "      <td>Emilia-Romagna</td>\n",
              "      <td>44.494367</td>\n",
              "      <td>11.341721</td>\n",
              "      <td>10</td>\n",
              "      <td>2</td>\n",
              "      <td>12</td>\n",
              "      <td>6</td>\n",
              "      <td>18</td>\n",
              "      <td>0</td>\n",
              "      <td>18</td>\n",
              "      <td>0</td>\n",
              "      <td>0</td>\n",
              "      <td>NaN</td>\n",
              "      <td>NaN</td>\n",
              "      <td>18</td>\n",
              "      <td>148</td>\n",
              "      <td>NaN</td>\n",
              "      <td>NaN</td>\n",
              "      <td>NaN</td>\n",
              "      <td>NaN</td>\n",
              "      <td>NaN</td>\n",
              "      <td>NaN</td>\n",
              "      <td>NaN</td>\n",
              "      <td>NaN</td>\n",
              "      <td>NaN</td>\n",
              "      <td>NaN</td>\n",
              "      <td>NaN</td>\n",
              "    </tr>\n",
              "    <tr>\n",
              "      <th>5</th>\n",
              "      <td>2020-02-24T18:00:00</td>\n",
              "      <td>ITA</td>\n",
              "      <td>6</td>\n",
              "      <td>Friuli Venezia Giulia</td>\n",
              "      <td>45.649435</td>\n",
              "      <td>13.768136</td>\n",
              "      <td>0</td>\n",
              "      <td>0</td>\n",
              "      <td>0</td>\n",
              "      <td>0</td>\n",
              "      <td>0</td>\n",
              "      <td>0</td>\n",
              "      <td>0</td>\n",
              "      <td>0</td>\n",
              "      <td>0</td>\n",
              "      <td>NaN</td>\n",
              "      <td>NaN</td>\n",
              "      <td>0</td>\n",
              "      <td>58</td>\n",
              "      <td>NaN</td>\n",
              "      <td>NaN</td>\n",
              "      <td>NaN</td>\n",
              "      <td>NaN</td>\n",
              "      <td>NaN</td>\n",
              "      <td>NaN</td>\n",
              "      <td>NaN</td>\n",
              "      <td>NaN</td>\n",
              "      <td>NaN</td>\n",
              "      <td>NaN</td>\n",
              "      <td>NaN</td>\n",
              "    </tr>\n",
              "    <tr>\n",
              "      <th>6</th>\n",
              "      <td>2020-02-24T18:00:00</td>\n",
              "      <td>ITA</td>\n",
              "      <td>12</td>\n",
              "      <td>Lazio</td>\n",
              "      <td>41.892770</td>\n",
              "      <td>12.483667</td>\n",
              "      <td>1</td>\n",
              "      <td>1</td>\n",
              "      <td>2</td>\n",
              "      <td>0</td>\n",
              "      <td>2</td>\n",
              "      <td>0</td>\n",
              "      <td>2</td>\n",
              "      <td>1</td>\n",
              "      <td>0</td>\n",
              "      <td>NaN</td>\n",
              "      <td>NaN</td>\n",
              "      <td>3</td>\n",
              "      <td>124</td>\n",
              "      <td>NaN</td>\n",
              "      <td>NaN</td>\n",
              "      <td>NaN</td>\n",
              "      <td>NaN</td>\n",
              "      <td>NaN</td>\n",
              "      <td>NaN</td>\n",
              "      <td>NaN</td>\n",
              "      <td>NaN</td>\n",
              "      <td>NaN</td>\n",
              "      <td>NaN</td>\n",
              "      <td>NaN</td>\n",
              "    </tr>\n",
              "    <tr>\n",
              "      <th>7</th>\n",
              "      <td>2020-02-24T18:00:00</td>\n",
              "      <td>ITA</td>\n",
              "      <td>7</td>\n",
              "      <td>Liguria</td>\n",
              "      <td>44.411493</td>\n",
              "      <td>8.932699</td>\n",
              "      <td>0</td>\n",
              "      <td>0</td>\n",
              "      <td>0</td>\n",
              "      <td>0</td>\n",
              "      <td>0</td>\n",
              "      <td>0</td>\n",
              "      <td>0</td>\n",
              "      <td>0</td>\n",
              "      <td>0</td>\n",
              "      <td>NaN</td>\n",
              "      <td>NaN</td>\n",
              "      <td>0</td>\n",
              "      <td>1</td>\n",
              "      <td>NaN</td>\n",
              "      <td>NaN</td>\n",
              "      <td>NaN</td>\n",
              "      <td>NaN</td>\n",
              "      <td>NaN</td>\n",
              "      <td>NaN</td>\n",
              "      <td>NaN</td>\n",
              "      <td>NaN</td>\n",
              "      <td>NaN</td>\n",
              "      <td>NaN</td>\n",
              "      <td>NaN</td>\n",
              "    </tr>\n",
              "    <tr>\n",
              "      <th>8</th>\n",
              "      <td>2020-02-24T18:00:00</td>\n",
              "      <td>ITA</td>\n",
              "      <td>3</td>\n",
              "      <td>Lombardia</td>\n",
              "      <td>45.466794</td>\n",
              "      <td>9.190347</td>\n",
              "      <td>76</td>\n",
              "      <td>19</td>\n",
              "      <td>95</td>\n",
              "      <td>71</td>\n",
              "      <td>166</td>\n",
              "      <td>0</td>\n",
              "      <td>166</td>\n",
              "      <td>0</td>\n",
              "      <td>6</td>\n",
              "      <td>NaN</td>\n",
              "      <td>NaN</td>\n",
              "      <td>172</td>\n",
              "      <td>1463</td>\n",
              "      <td>NaN</td>\n",
              "      <td>NaN</td>\n",
              "      <td>NaN</td>\n",
              "      <td>NaN</td>\n",
              "      <td>NaN</td>\n",
              "      <td>NaN</td>\n",
              "      <td>NaN</td>\n",
              "      <td>NaN</td>\n",
              "      <td>NaN</td>\n",
              "      <td>NaN</td>\n",
              "      <td>NaN</td>\n",
              "    </tr>\n",
              "    <tr>\n",
              "      <th>9</th>\n",
              "      <td>2020-02-24T18:00:00</td>\n",
              "      <td>ITA</td>\n",
              "      <td>11</td>\n",
              "      <td>Marche</td>\n",
              "      <td>43.616760</td>\n",
              "      <td>13.518875</td>\n",
              "      <td>0</td>\n",
              "      <td>0</td>\n",
              "      <td>0</td>\n",
              "      <td>0</td>\n",
              "      <td>0</td>\n",
              "      <td>0</td>\n",
              "      <td>0</td>\n",
              "      <td>0</td>\n",
              "      <td>0</td>\n",
              "      <td>NaN</td>\n",
              "      <td>NaN</td>\n",
              "      <td>0</td>\n",
              "      <td>16</td>\n",
              "      <td>NaN</td>\n",
              "      <td>NaN</td>\n",
              "      <td>NaN</td>\n",
              "      <td>NaN</td>\n",
              "      <td>NaN</td>\n",
              "      <td>NaN</td>\n",
              "      <td>NaN</td>\n",
              "      <td>NaN</td>\n",
              "      <td>NaN</td>\n",
              "      <td>NaN</td>\n",
              "      <td>NaN</td>\n",
              "    </tr>\n",
              "  </tbody>\n",
              "</table>\n",
              "</div>"
            ],
            "text/plain": [
              "                  data stato  ...  codice_nuts_1 codice_nuts_2\n",
              "0  2020-02-24T18:00:00   ITA  ...            NaN           NaN\n",
              "1  2020-02-24T18:00:00   ITA  ...            NaN           NaN\n",
              "2  2020-02-24T18:00:00   ITA  ...            NaN           NaN\n",
              "3  2020-02-24T18:00:00   ITA  ...            NaN           NaN\n",
              "4  2020-02-24T18:00:00   ITA  ...            NaN           NaN\n",
              "5  2020-02-24T18:00:00   ITA  ...            NaN           NaN\n",
              "6  2020-02-24T18:00:00   ITA  ...            NaN           NaN\n",
              "7  2020-02-24T18:00:00   ITA  ...            NaN           NaN\n",
              "8  2020-02-24T18:00:00   ITA  ...            NaN           NaN\n",
              "9  2020-02-24T18:00:00   ITA  ...            NaN           NaN\n",
              "\n",
              "[10 rows x 30 columns]"
            ]
          },
          "metadata": {
            "tags": []
          },
          "execution_count": 14
        }
      ]
    },
    {
      "cell_type": "markdown",
      "metadata": {
        "id": "UaWEcx3OCpH3"
      },
      "source": [
        "A continuación elimine todas las columnas que contengan valores faltantes."
      ]
    },
    {
      "cell_type": "code",
      "metadata": {
        "colab": {
          "base_uri": "https://localhost:8080/"
        },
        "id": "sWztN7QOyMNW",
        "outputId": "0405167c-f12d-482f-9904-6d300476c175"
      },
      "source": [
        "df_italia.shape"
      ],
      "execution_count": null,
      "outputs": [
        {
          "output_type": "execute_result",
          "data": {
            "text/plain": [
              "(8211, 30)"
            ]
          },
          "metadata": {
            "tags": []
          },
          "execution_count": 15
        }
      ]
    },
    {
      "cell_type": "code",
      "metadata": {
        "id": "TznMLQfqCvBx"
      },
      "source": [
        "df_no_na = df_italia.dropna(axis=1)"
      ],
      "execution_count": null,
      "outputs": []
    },
    {
      "cell_type": "markdown",
      "metadata": {
        "id": "iCge39apCvb2"
      },
      "source": [
        "#### Single Feature Scaling\n"
      ]
    },
    {
      "cell_type": "markdown",
      "metadata": {
        "id": "TTUR6ZeODHBB"
      },
      "source": [
        "Este método convierte cada valor de una columna en un número entre 0 y 1. El nuevo valor se calcula como el valor actual dividido por el valor máximo de la columna. Implementelo en la columna `tamponi`"
      ]
    },
    {
      "cell_type": "code",
      "metadata": {
        "id": "YMzT0M-5DDYT"
      },
      "source": [
        "df_tamponi_scaled = df_no_na[\"tamponi\"] / df_no_na[\"tamponi\"].max()"
      ],
      "execution_count": null,
      "outputs": []
    },
    {
      "cell_type": "code",
      "metadata": {
        "colab": {
          "base_uri": "https://localhost:8080/"
        },
        "id": "VjsyFpYDC5Fb",
        "outputId": "84208f94-e27b-44de-8843-4be277ce5a3a"
      },
      "source": [
        "df_tamponi_scaled.describe()"
      ],
      "execution_count": null,
      "outputs": [
        {
          "output_type": "execute_result",
          "data": {
            "text/plain": [
              "count    8211.000000\n",
              "mean        0.088168\n",
              "std         0.138125\n",
              "min         0.000000\n",
              "25%         0.009055\n",
              "50%         0.033387\n",
              "75%         0.098077\n",
              "max         1.000000\n",
              "Name: tamponi, dtype: float64"
            ]
          },
          "metadata": {
            "tags": []
          },
          "execution_count": 18
        }
      ]
    },
    {
      "cell_type": "markdown",
      "metadata": {
        "id": "gNJAX1EcDVuj"
      },
      "source": [
        "#### Min Max"
      ]
    },
    {
      "cell_type": "markdown",
      "metadata": {
        "id": "6WoNcxVNDYMC"
      },
      "source": [
        "De manera similar al método anterior, Min Max convierte cada valor de una columna en un número entre 0 y 1. El nuevo valor se calcula como la diferencia entre el valor actual y el valor mínimo, dividido por el rango de los valores de la columna. Implementelo para la columna `totale_casi`"
      ]
    },
    {
      "cell_type": "code",
      "metadata": {
        "id": "NaV8qtXxDq9r",
        "colab": {
          "base_uri": "https://localhost:8080/"
        },
        "outputId": "caf33890-282d-4f67-8278-3dc8d4059dc4"
      },
      "source": [
        "df_totale_case_minmax = (df_no_na[\"totale_casi\"] - df_no_na[\"totale_casi\"].min()) / (df_no_na[\"totale_casi\"].max() - df_no_na[\"totale_casi\"].min())\n",
        "df_totale_case_minmax.describe()"
      ],
      "execution_count": null,
      "outputs": [
        {
          "output_type": "execute_result",
          "data": {
            "text/plain": [
              "count    8211.000000\n",
              "mean        0.063794\n",
              "std         0.124399\n",
              "min         0.000000\n",
              "25%         0.003839\n",
              "50%         0.012883\n",
              "75%         0.055511\n",
              "max         1.000000\n",
              "Name: totale_casi, dtype: float64"
            ]
          },
          "metadata": {
            "tags": []
          },
          "execution_count": 19
        }
      ]
    },
    {
      "cell_type": "markdown",
      "metadata": {
        "id": "9QEW9QLkESiA"
      },
      "source": [
        "#### Z Score"
      ]
    },
    {
      "cell_type": "markdown",
      "metadata": {
        "id": "IB3LDG4UEUdk"
      },
      "source": [
        "Z-Score convierte cada valor de una columna en un número alrededor de 0. Los valores típicos obtenidos por una transformación de z-score oscilan entre -3 y 3. \n",
        "\n",
        "El nuevo valor se calcula como la diferencia entre el valor actual y el valor promedio, dividido por la desviación estándar. El valor promedio de una columna se puede obtener a través de la función `mean()`, mientras que la desviación estándar a través de la función `std()`. \n",
        "\n",
        "Implementelo para la columna ```deceduti```\n",
        "\n"
      ]
    },
    {
      "cell_type": "code",
      "metadata": {
        "id": "ZlTPNyA6FdwH",
        "colab": {
          "base_uri": "https://localhost:8080/"
        },
        "outputId": "9d70173b-594d-43b0-83e7-58b0d4066513"
      },
      "source": [
        "df_deceduti_z = (df_no_na[\"deceduti\"] - df_no_na[\"deceduti\"].mean()) / df_no_na[\"deceduti\"].std()\n",
        "df_deceduti_z.describe()"
      ],
      "execution_count": null,
      "outputs": [
        {
          "output_type": "execute_result",
          "data": {
            "text/plain": [
              "count    8.211000e+03\n",
              "mean    -1.760375e-15\n",
              "std      1.000000e+00\n",
              "min     -5.031985e-01\n",
              "25%     -4.666703e-01\n",
              "50%     -3.761642e-01\n",
              "75%     -2.298082e-02\n",
              "max      6.409005e+00\n",
              "Name: deceduti, dtype: float64"
            ]
          },
          "metadata": {
            "tags": []
          },
          "execution_count": 20
        }
      ]
    },
    {
      "cell_type": "markdown",
      "metadata": {
        "id": "oPNYy8sNdcFD"
      },
      "source": [
        "La siguiente función dibuja un gráfico de caja con los datos que recibe para poder observar su distribución. Utilicela pasando la versión normalizada de la columna `deceduti` del dataset como parámetro."
      ]
    },
    {
      "cell_type": "code",
      "metadata": {
        "id": "Kdpn9FTmFty2",
        "colab": {
          "base_uri": "https://localhost:8080/",
          "height": 320
        },
        "outputId": "5646e120-ab55-4bb9-ea0e-82f9b0a7fdd8"
      },
      "source": [
        "def boxplot(data):\n",
        "  fig = plt.figure(figsize =(5, 5)) \n",
        "  plt.boxplot(data)\n",
        "  plt.show()\n",
        "\n",
        "boxplot(df_deceduti_z)"
      ],
      "execution_count": null,
      "outputs": [
        {
          "output_type": "display_data",
          "data": {
            "image/png": "[encoded data removed]",
            "text/plain": [
              "<Figure size 360x360 with 1 Axes>"
            ]
          },
          "metadata": {
            "tags": [],
            "needs_background": "light"
          }
        }
      ]
    },
    {
      "cell_type": "markdown",
      "metadata": {
        "id": "zyeamlS0IJot"
      },
      "source": [
        "En el gráfico de caja anterior se puede observar que a partir de cierto valor de Z los valores son outliers o valores anómalos."
      ]
    },
    {
      "cell_type": "markdown",
      "metadata": {
        "id": "kdXbrAHhh7dx"
      },
      "source": [
        "La siguiente función también realiza un gráfico de caja, pero antes filtra todos los valores outliers en base a un parámetro threshold. Llame a la función pasando la versión normalizada de la columna `deceduti` del dataset como parámetro `data`. Además elija un valor para el parámetro `threshold` de manera de eliminar todos los outliers del dataset. "
      ]
    },
    {
      "cell_type": "code",
      "metadata": {
        "id": "zxRCcFa_GXfa",
        "colab": {
          "base_uri": "https://localhost:8080/",
          "height": 428
        },
        "outputId": "119337ae-a232-463f-cb22-9fbdfa7f33a8"
      },
      "source": [
        "def boxplot_sin_outliers(data, threshold):\n",
        "  outliers = np.where((data - threshold > 0), True, np.where(data + threshold < 0, True, False))\n",
        "  data_sin_outliers = data[~outliers]\n",
        "  fig = plt.figure(figsize =(10, 7)) \n",
        "  plt.boxplot(data_sin_outliers )\n",
        "  plt.show()\n",
        "\n",
        "iqr = abs(df_deceduti_z.describe()[\"75%\"] - df_deceduti_z.describe()[\"25%\"])\n",
        "th = df_deceduti_z.describe()[\"75%\"] + iqr * 1.5\n",
        "\n",
        "boxplot_sin_outliers(df_deceduti_z, th)"
      ],
      "execution_count": null,
      "outputs": [
        {
          "output_type": "display_data",
          "data": {
            "image/png": "[encoded data removed]",
            "text/plain": [
              "<Figure size 720x504 with 1 Axes>"
            ]
          },
          "metadata": {
            "tags": [],
            "needs_background": "light"
          }
        }
      ]
    },
    {
      "cell_type": "code",
      "metadata": {
        "colab": {
          "base_uri": "https://localhost:8080/"
        },
        "id": "aXQa5WLzISBQ",
        "outputId": "8e81f2f5-75b5-4195-9979-a0765b1a5574"
      },
      "source": [
        "th"
      ],
      "execution_count": null,
      "outputs": [
        {
          "output_type": "execute_result",
          "data": {
            "text/plain": [
              "0.6425534278172839"
            ]
          },
          "metadata": {
            "tags": []
          },
          "execution_count": 23
        }
      ]
    },
    {
      "cell_type": "markdown",
      "metadata": {
        "id": "G89y5PDLIWFO"
      },
      "source": [
        "#### Escala logarítmica"
      ]
    },
    {
      "cell_type": "markdown",
      "metadata": {
        "id": "efNgOPJ2EmEi"
      },
      "source": [
        "Acá básicamente aplicamos la función `log()` a toda la columna. Implemente esta normalización para la columna `dimessi_guariti` Hay que tener cuidado porque el logaritmo de 0 está indeterminado. Les recomendamos utilizar [funciones lambda](https://www.kite.com/python/answers/how-to-use-an-if-statement-in-a-lambda-function-in-python) para sortear esta restricción."
      ]
    },
    {
      "cell_type": "code",
      "metadata": {
        "id": "r3HGjsQLiTHt"
      },
      "source": [
        "df_dimessi_guariti_log = df_no_na[\"dimessi_guariti\"].apply(lambda x: np.log(x) if x else np.nan)"
      ],
      "execution_count": null,
      "outputs": []
    },
    {
      "cell_type": "code",
      "metadata": {
        "colab": {
          "base_uri": "https://localhost:8080/"
        },
        "id": "CWbJu9mSJaSV",
        "outputId": "ddfd947b-e8fc-43cf-969c-a328e37df004"
      },
      "source": [
        "df_dimessi_guariti_log.describe()"
      ],
      "execution_count": null,
      "outputs": [
        {
          "output_type": "execute_result",
          "data": {
            "text/plain": [
              "count    7909.000000\n",
              "mean        8.582577\n",
              "std         2.358408\n",
              "min         0.000000\n",
              "25%         7.249215\n",
              "50%         8.729074\n",
              "75%        10.193392\n",
              "max        13.235258\n",
              "Name: dimessi_guariti, dtype: float64"
            ]
          },
          "metadata": {
            "tags": []
          },
          "execution_count": 25
        }
      ]
    },
    {
      "cell_type": "markdown",
      "metadata": {
        "id": "yLllDvgOl_yg"
      },
      "source": [
        "## Parte 2: Manipulación de Datos\n"
      ]
    },
    {
      "cell_type": "markdown",
      "metadata": {
        "id": "-y1Uxgh2mKZC"
      },
      "source": [
        "Repasá lo visto en la clase 2 sobre manipulación de tensores e intentá resolver los siguientes ejercicios."
      ]
    },
    {
      "cell_type": "markdown",
      "metadata": {
        "id": "igHDlbWlmdYs"
      },
      "source": [
        "Primero generemos un tensor de 28x28 llenado con el valor 0.25 en todas sus celdas. Luego generemos un segundo tensor de 28x28 con el valor 0.5 y otro con el valor 0.75"
      ]
    },
    {
      "cell_type": "code",
      "metadata": {
        "id": "_ihr6267nT6U"
      },
      "source": [
        "tensor_25 = torch.ones((28, 28)) * 0.25\n",
        "tensor_50 = torch.ones((28, 28)) * 0.5\n",
        "tensor_75 = torch.ones((28, 28)) * 0.75"
      ],
      "execution_count": null,
      "outputs": []
    },
    {
      "cell_type": "markdown",
      "metadata": {
        "id": "4Q_tNCuanv8W"
      },
      "source": [
        "Ahora concatene los 3 tensores en uno solo de dimensión 3X28X28"
      ]
    },
    {
      "cell_type": "code",
      "metadata": {
        "id": "Ls0zAT93n5Ke",
        "colab": {
          "base_uri": "https://localhost:8080/"
        },
        "outputId": "64df0dd8-8ad0-45f9-d6c9-dcc88644d557"
      },
      "source": [
        "stacked_tensor = torch.stack([tensor_25, tensor_50, tensor_75])\n",
        "stacked_tensor.shape"
      ],
      "execution_count": null,
      "outputs": [
        {
          "output_type": "execute_result",
          "data": {
            "text/plain": [
              "torch.Size([3, 28, 28])"
            ]
          },
          "metadata": {
            "tags": []
          },
          "execution_count": 70
        }
      ]
    },
    {
      "cell_type": "markdown",
      "metadata": {
        "id": "3VajCGlzn46x"
      },
      "source": [
        "Transformar el tensor anterior para que tenga 6 canales en lugar de 3. Organice las filas y columnas a su gusto."
      ]
    },
    {
      "cell_type": "code",
      "metadata": {
        "id": "N9mom4B6pZmM",
        "colab": {
          "base_uri": "https://localhost:8080/"
        },
        "outputId": "5f528f36-595c-4229-a347-9bad4f96e228"
      },
      "source": [
        "reshaped_tensor = stacked_tensor.reshape((6, 14, 28))\n",
        "reshaped_tensor.shape"
      ],
      "execution_count": null,
      "outputs": [
        {
          "output_type": "execute_result",
          "data": {
            "text/plain": [
              "torch.Size([6, 14, 28])"
            ]
          },
          "metadata": {
            "tags": []
          },
          "execution_count": 71
        }
      ]
    },
    {
      "cell_type": "markdown",
      "metadata": {
        "id": "CVJP3VvCp6Yy"
      },
      "source": [
        "Devolver el valor de la suma de cada canal por separado. (Recordemos que en los vectores tridimensionales la forma es (canales, filas, columnas)"
      ]
    },
    {
      "cell_type": "code",
      "metadata": {
        "id": "lvMLOXZQp-eb",
        "colab": {
          "base_uri": "https://localhost:8080/"
        },
        "outputId": "b4b30b05-1b61-4d9e-f7e5-14ea75e02ad2"
      },
      "source": [
        "reshaped_tensor.sum(dim=[1,2])"
      ],
      "execution_count": null,
      "outputs": [
        {
          "output_type": "execute_result",
          "data": {
            "text/plain": [
              "tensor([ 98.,  98., 196., 196., 294., 294.])"
            ]
          },
          "metadata": {
            "tags": []
          },
          "execution_count": 72
        }
      ]
    },
    {
      "cell_type": "markdown",
      "metadata": {
        "id": "dOb_Fu-9q3JP"
      },
      "source": [
        "Llenar la primera fila de cada canal con ceros y llenar el quinto canal con unos. Volver a generar las sumas para cada canal."
      ]
    },
    {
      "cell_type": "code",
      "metadata": {
        "id": "OZ4gx1F7r4il",
        "colab": {
          "base_uri": "https://localhost:8080/"
        },
        "outputId": "84326378-7392-4282-d02f-16de09b96abf"
      },
      "source": [
        "reshaped_tensor_cpy = reshaped_tensor[:,:,:]\n",
        "reshaped_tensor_cpy[:, 0, :] = 0\n",
        "reshaped_tensor_cpy[4, :, :] = 1\n",
        "reshaped_tensor_cpy.sum(dim=[1,2])"
      ],
      "execution_count": null,
      "outputs": [
        {
          "output_type": "execute_result",
          "data": {
            "text/plain": [
              "tensor([ 91.,  91., 182., 182., 392., 273.])"
            ]
          },
          "metadata": {
            "tags": []
          },
          "execution_count": 73
        }
      ]
    },
    {
      "cell_type": "code",
      "metadata": {
        "colab": {
          "base_uri": "https://localhost:8080/"
        },
        "id": "Z5MJlSBOuepe",
        "outputId": "61c3132a-fb18-4de8-d0d8-e22ecb796b6f"
      },
      "source": [
        "14*28"
      ],
      "execution_count": null,
      "outputs": [
        {
          "output_type": "execute_result",
          "data": {
            "text/plain": [
              "392"
            ]
          },
          "metadata": {
            "tags": []
          },
          "execution_count": 74
        }
      ]
    },
    {
      "cell_type": "markdown",
      "metadata": {
        "id": "lYEOm_cpsZTk"
      },
      "source": [
        "Generar otro tensor con la misma forma que el anteriores, pero lleno de valores aleatorios."
      ]
    },
    {
      "cell_type": "code",
      "metadata": {
        "id": "U9x21z72sYyR"
      },
      "source": [
        "rnd_tensor = torch.randn((3, 28,28))"
      ],
      "execution_count": null,
      "outputs": []
    },
    {
      "cell_type": "markdown",
      "metadata": {
        "id": "BCFEEKPHsqQn"
      },
      "source": [
        "Concatenar ambos tensores tridimensionales en un tensor de cuatro dimensiones. "
      ]
    },
    {
      "cell_type": "code",
      "metadata": {
        "id": "VtrQYE85sOdX"
      },
      "source": [
        "tensor_4d = torch.stack([stacked_tensor, rnd_tensor])"
      ],
      "execution_count": null,
      "outputs": []
    },
    {
      "cell_type": "code",
      "metadata": {
        "colab": {
          "base_uri": "https://localhost:8080/"
        },
        "id": "6y1JWeeEv1qX",
        "outputId": "a7b08df9-667a-4564-b8f0-96f07b9ca1e2"
      },
      "source": [
        "tensor_4d.shape"
      ],
      "execution_count": null,
      "outputs": [
        {
          "output_type": "execute_result",
          "data": {
            "text/plain": [
              "torch.Size([2, 3, 28, 28])"
            ]
          },
          "metadata": {
            "tags": []
          },
          "execution_count": 83
        }
      ]
    },
    {
      "cell_type": "markdown",
      "metadata": {
        "id": "xZU9ML6_t65z"
      },
      "source": [
        "Generar un tercer tensor tridimensional que sea la resta de los otros dos y concatenarlo al tensor de cuatro dimensiones."
      ]
    },
    {
      "cell_type": "code",
      "metadata": {
        "id": "DjkSagDet6YN",
        "colab": {
          "base_uri": "https://localhost:8080/"
        },
        "outputId": "ccf7b57b-13cf-4fee-f82d-8d82b9ea4174"
      },
      "source": [
        "torhc_4d_concatenated = torch.cat([tensor_4d, (stacked_tensor - rnd_tensor).unsqueeze(0)])\n",
        "torhc_4d_concatenated.shape"
      ],
      "execution_count": null,
      "outputs": [
        {
          "output_type": "execute_result",
          "data": {
            "text/plain": [
              "torch.Size([3, 3, 28, 28])"
            ]
          },
          "metadata": {
            "tags": []
          },
          "execution_count": 88
        }
      ]
    },
    {
      "cell_type": "code",
      "metadata": {
        "id": "Lyb6Sath58V8"
      },
      "source": [
        ""
      ],
      "execution_count": null,
      "outputs": []
    }
  ]
}